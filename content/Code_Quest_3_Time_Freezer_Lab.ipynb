{
 "cells": [
  {
   "cell_type": "markdown",
   "id": "2b57debb",
   "metadata": {},
   "source": [
    "# 🧊 Code Quest 3: The Time-Freezer Lab\n",
    "\n",
    "You've stumbled into a secret time lab where scientists were building a Time Freezer! It’s gone haywire, and time is freezing all around you.\n",
    "\n",
    "Complete these Python challenges to defrost the lab and return to the present. Solve each function as a team to unlock the way out. Each level is a different frozen room you must escape!\n",
    "\n",
    "Let’s thaw time together! ⏳❄️\n"
   ]
  },
  {
   "cell_type": "markdown",
   "id": "348c0157",
   "metadata": {},
   "source": [
    "## 🧊 Level 1: Frozen Greeting Machine\n",
    "\n",
    "The lab’s frozen computer still prints greetings, but they must include the year.\n",
    "\n",
    "**Example:**\n",
    "\n",
    "```python\n",
    "frozen_greeting(\"Lena\", 2025) ➞ \"Hello Lena, from the year 2025!\"\n",
    "```\n"
   ]
  },
  {
   "cell_type": "code",
   "execution_count": null,
   "id": "3f8ab620",
   "metadata": {},
   "outputs": [],
   "source": [
    "def frozen_greeting(name, year):\n",
    "    return f\"Hello {name}, from the year {year}!\"\n",
    "\n",
    "# Test\n",
    "print(frozen_greeting(\"Lena\", 2025))  # Should print: Hello Lena, from the year 2025!\n"
   ]
  },
  {
   "cell_type": "markdown",
   "id": "80864765",
   "metadata": {},
   "source": [
    "## ⏰ Level 2: Melting Clock Puzzle\n",
    "\n",
    "Return \"morning\", \"afternoon\", or \"evening\" based on the hour (24h format).\n",
    "\n",
    "- Morning: 5–11\n",
    "- Afternoon: 12–17\n",
    "- Evening: all others\n",
    "\n",
    "**Example:**\n",
    "\n",
    "```python\n",
    "time_of_day(14) ➞ \"afternoon\"\n",
    "```\n"
   ]
  },
  {
   "cell_type": "code",
   "execution_count": null,
   "id": "dd8f4d76",
   "metadata": {},
   "outputs": [],
   "source": [
    "def time_of_day(hour):\n",
    "    if 5 <= hour <= 11:\n",
    "        return \"morning\"\n",
    "    elif 12 <= hour <= 17:\n",
    "        return \"afternoon\"\n",
    "    else:\n",
    "        return \"evening\"\n",
    "\n",
    "# Test\n",
    "print(time_of_day(14))  # Should print: afternoon\n"
   ]
  },
  {
   "cell_type": "markdown",
   "id": "2461e1f1",
   "metadata": {},
   "source": [
    "## 💎 Level 3: Time Crystal Counter\n",
    "\n",
    "Add up only the **even numbers** in a list that are greater than 10.\n",
    "\n",
    "**Example:**\n",
    "\n",
    "```python\n",
    "count_crystals([4, 12, 7, 18, 5, 24]) ➞ 54\n",
    "```\n"
   ]
  },
  {
   "cell_type": "code",
   "execution_count": null,
   "id": "613b230b",
   "metadata": {},
   "outputs": [],
   "source": [
    "def count_crystals(crystals):\n",
    "    total = 0\n",
    "    for c in crystals:\n",
    "        if c % 2 == 0 and c > 10:\n",
    "            total += c\n",
    "    return total\n",
    "\n",
    "# Test\n",
    "print(count_crystals([4, 12, 7, 18, 5, 24]))  # Should print: 54\n"
   ]
  },
  {
   "cell_type": "markdown",
   "id": "529937a2",
   "metadata": {},
   "source": [
    "## 🔓 Final Level: Secret Code Decoder\n",
    "\n",
    "Take a list of reversed words and return the decoded phrase.\n",
    "\n",
    "**Example:**\n",
    "\n",
    "```python\n",
    "decode([\"edoc\", \"si\", \"nuf\"]) ➞ \"code is fun\"\n",
    "```\n"
   ]
  },
  {
   "cell_type": "code",
   "execution_count": null,
   "id": "fcedde8f",
   "metadata": {},
   "outputs": [],
   "source": [
    "def decode(reversed_words):\n",
    "    real_words = [word[::-1] for word in reversed_words]\n",
    "    return \" \".join(real_words)\n",
    "\n",
    "# Test\n",
    "print(decode([\"edoc\", \"si\", \"nuf\"]))  # Should print: code is fun\n"
   ]
  }
 ],
 "metadata": {},
 "nbformat": 4,
 "nbformat_minor": 5
}
