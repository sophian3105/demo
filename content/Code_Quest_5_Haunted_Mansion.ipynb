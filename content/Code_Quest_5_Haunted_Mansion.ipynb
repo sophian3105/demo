{
 "cells": [
  {
   "cell_type": "markdown",
   "id": "83da22f0",
   "metadata": {},
   "source": [
    "# 🏚️ Code Quest 5: The Haunted Mansion\n",
    "\n",
    "You and your friends are trapped in a haunted mansion! Ghosts roam the halls and puzzles guard every door. Solve Python riddles to escape before midnight... or be trapped forever 👻\n"
   ]
  },
  {
   "cell_type": "markdown",
   "id": "23cc91c7",
   "metadata": {},
   "source": [
    "## 👻 Level 1: Ghostly Greeting\n",
    "\n",
    "Reverse the name of a ghost and return it in uppercase."
   ]
  },
  {
   "cell_type": "code",
   "execution_count": null,
   "id": "2c764935",
   "metadata": {},
   "outputs": [],
   "source": [
    "def ghost_greeting(name):\n",
    "    return name[::-1].upper()\n",
    "\n",
    "print(ghost_greeting(\"Casper\"))  # Should print: REPSAC"
   ]
  },
  {
   "cell_type": "markdown",
   "id": "04e800ad",
   "metadata": {},
   "source": [
    "## 🕯️ Level 2: Candle Timer\n",
    "\n",
    "Candle lasts 10 mins per inch. Given height in inches, return time in minutes."
   ]
  },
  {
   "cell_type": "code",
   "execution_count": null,
   "id": "bab6f643",
   "metadata": {},
   "outputs": [],
   "source": [
    "def candle_burn_time(height):\n",
    "    return height * 10\n",
    "\n",
    "print(candle_burn_time(3))  # Should print: 30"
   ]
  },
  {
   "cell_type": "markdown",
   "id": "672b3b07",
   "metadata": {},
   "source": [
    "## 🔍 Level 3: Haunted Numbers\n",
    "\n",
    "Return only odd numbers from a list, sorted in reverse."
   ]
  },
  {
   "cell_type": "code",
   "execution_count": null,
   "id": "9196153c",
   "metadata": {},
   "outputs": [],
   "source": [
    "def haunted_numbers(nums):\n",
    "    return sorted([n for n in nums if n % 2 == 1], reverse=True)\n",
    "\n",
    "print(haunted_numbers([3, 2, 5, 8, 1]))  # Should print: [5, 3, 1]"
   ]
  },
  {
   "cell_type": "markdown",
   "id": "87c595d9",
   "metadata": {},
   "source": [
    "## 🗝️ Final Level: Unlock the Secret Door\n",
    "\n",
    "Combine first letters of each word into one uppercase word."
   ]
  },
  {
   "cell_type": "code",
   "execution_count": null,
   "id": "5a512793",
   "metadata": {},
   "outputs": [],
   "source": [
    "def unlock(words):\n",
    "    return \"\".join([w[0] for w in words]).upper()\n",
    "\n",
    "print(unlock([\"ghost\", \"under\", \"bed\"]))  # Should print: GUB"
   ]
  }
 ],
 "metadata": {},
 "nbformat": 4,
 "nbformat_minor": 5
}
